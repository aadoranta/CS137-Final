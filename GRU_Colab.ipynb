{
  "cells": [
    {
      "cell_type": "code",
      "execution_count": 2,
      "metadata": {
        "colab": {
          "base_uri": "https://localhost:8080/"
        },
        "id": "7OCZMHYogren",
        "outputId": "3824560d-4f93-4a54-a079-df031315caf5"
      },
      "outputs": [
        {
          "output_type": "stream",
          "name": "stdout",
          "text": [
            "Looking in indexes: https://pypi.org/simple, https://us-python.pkg.dev/colab-wheels/public/simple/\n",
            "Collecting deepchem\n",
            "  Downloading deepchem-2.7.1-py3-none-any.whl (693 kB)\n",
            "\u001b[K     |████████████████████████████████| 693 kB 6.7 MB/s \n",
            "\u001b[?25hCollecting rdkit\n",
            "  Downloading rdkit-2022.9.2-cp38-cp38-manylinux_2_17_x86_64.manylinux2014_x86_64.whl (29.3 MB)\n",
            "\u001b[K     |████████████████████████████████| 29.3 MB 230 kB/s \n",
            "\u001b[?25hRequirement already satisfied: numpy>=1.21 in /usr/local/lib/python3.8/dist-packages (from deepchem) (1.21.6)\n",
            "Requirement already satisfied: pandas in /usr/local/lib/python3.8/dist-packages (from deepchem) (1.3.5)\n",
            "Requirement already satisfied: scipy<1.9 in /usr/local/lib/python3.8/dist-packages (from deepchem) (1.7.3)\n",
            "Requirement already satisfied: joblib in /usr/local/lib/python3.8/dist-packages (from deepchem) (1.2.0)\n",
            "Requirement already satisfied: scikit-learn in /usr/local/lib/python3.8/dist-packages (from deepchem) (1.0.2)\n",
            "Requirement already satisfied: pytz>=2017.3 in /usr/local/lib/python3.8/dist-packages (from pandas->deepchem) (2022.6)\n",
            "Requirement already satisfied: python-dateutil>=2.7.3 in /usr/local/lib/python3.8/dist-packages (from pandas->deepchem) (2.8.2)\n",
            "Requirement already satisfied: six>=1.5 in /usr/local/lib/python3.8/dist-packages (from python-dateutil>=2.7.3->pandas->deepchem) (1.15.0)\n",
            "Requirement already satisfied: Pillow in /usr/local/lib/python3.8/dist-packages (from rdkit->deepchem) (7.1.2)\n",
            "Requirement already satisfied: threadpoolctl>=2.0.0 in /usr/local/lib/python3.8/dist-packages (from scikit-learn->deepchem) (3.1.0)\n",
            "Installing collected packages: rdkit, deepchem\n",
            "Successfully installed deepchem-2.7.1 rdkit-2022.9.2\n",
            "Looking in indexes: https://pypi.org/simple, https://us-python.pkg.dev/colab-wheels/public/simple/\n",
            "Collecting transformers\n",
            "  Downloading transformers-4.25.1-py3-none-any.whl (5.8 MB)\n",
            "\u001b[K     |████████████████████████████████| 5.8 MB 7.5 MB/s \n",
            "\u001b[?25hRequirement already satisfied: filelock in /usr/local/lib/python3.8/dist-packages (from transformers) (3.8.0)\n",
            "Requirement already satisfied: packaging>=20.0 in /usr/local/lib/python3.8/dist-packages (from transformers) (21.3)\n",
            "Requirement already satisfied: tqdm>=4.27 in /usr/local/lib/python3.8/dist-packages (from transformers) (4.64.1)\n",
            "Requirement already satisfied: pyyaml>=5.1 in /usr/local/lib/python3.8/dist-packages (from transformers) (6.0)\n",
            "Collecting huggingface-hub<1.0,>=0.10.0\n",
            "  Downloading huggingface_hub-0.11.1-py3-none-any.whl (182 kB)\n",
            "\u001b[K     |████████████████████████████████| 182 kB 78.8 MB/s \n",
            "\u001b[?25hRequirement already satisfied: numpy>=1.17 in /usr/local/lib/python3.8/dist-packages (from transformers) (1.21.6)\n",
            "Requirement already satisfied: requests in /usr/local/lib/python3.8/dist-packages (from transformers) (2.23.0)\n",
            "Requirement already satisfied: regex!=2019.12.17 in /usr/local/lib/python3.8/dist-packages (from transformers) (2022.6.2)\n",
            "Collecting tokenizers!=0.11.3,<0.14,>=0.11.1\n",
            "  Downloading tokenizers-0.13.2-cp38-cp38-manylinux_2_17_x86_64.manylinux2014_x86_64.whl (7.6 MB)\n",
            "\u001b[K     |████████████████████████████████| 7.6 MB 56.8 MB/s \n",
            "\u001b[?25hRequirement already satisfied: typing-extensions>=3.7.4.3 in /usr/local/lib/python3.8/dist-packages (from huggingface-hub<1.0,>=0.10.0->transformers) (4.1.1)\n",
            "Requirement already satisfied: pyparsing!=3.0.5,>=2.0.2 in /usr/local/lib/python3.8/dist-packages (from packaging>=20.0->transformers) (3.0.9)\n",
            "Requirement already satisfied: certifi>=2017.4.17 in /usr/local/lib/python3.8/dist-packages (from requests->transformers) (2022.9.24)\n",
            "Requirement already satisfied: idna<3,>=2.5 in /usr/local/lib/python3.8/dist-packages (from requests->transformers) (2.10)\n",
            "Requirement already satisfied: chardet<4,>=3.0.2 in /usr/local/lib/python3.8/dist-packages (from requests->transformers) (3.0.4)\n",
            "Requirement already satisfied: urllib3!=1.25.0,!=1.25.1,<1.26,>=1.21.1 in /usr/local/lib/python3.8/dist-packages (from requests->transformers) (1.24.3)\n",
            "Installing collected packages: tokenizers, huggingface-hub, transformers\n",
            "Successfully installed huggingface-hub-0.11.1 tokenizers-0.13.2 transformers-4.25.1\n",
            "Looking in indexes: https://pypi.org/simple, https://us-python.pkg.dev/colab-wheels/public/simple/\n",
            "Collecting openbabel\n",
            "  Downloading openbabel-3.1.1.1.tar.gz (82 kB)\n",
            "\u001b[K     |████████████████████████████████| 82 kB 1.2 MB/s \n",
            "\u001b[?25hBuilding wheels for collected packages: openbabel\n",
            "  Building wheel for openbabel (setup.py) ... \u001b[?25lerror\n",
            "\u001b[31m  ERROR: Failed building wheel for openbabel\u001b[0m\n",
            "\u001b[?25h  Running setup.py clean for openbabel\n",
            "Failed to build openbabel\n",
            "Installing collected packages: openbabel\n",
            "    Running setup.py install for openbabel ... \u001b[?25l\u001b[?25herror\n",
            "\u001b[31mERROR: Command errored out with exit status 1: /usr/bin/python3 -u -c 'import io, os, sys, setuptools, tokenize; sys.argv[0] = '\"'\"'/tmp/pip-install-kj98zc9o/openbabel_6afc9f1e076042a1ad4228b99cab9442/setup.py'\"'\"'; __file__='\"'\"'/tmp/pip-install-kj98zc9o/openbabel_6afc9f1e076042a1ad4228b99cab9442/setup.py'\"'\"';f = getattr(tokenize, '\"'\"'open'\"'\"', open)(__file__) if os.path.exists(__file__) else io.StringIO('\"'\"'from setuptools import setup; setup()'\"'\"');code = f.read().replace('\"'\"'\\r\\n'\"'\"', '\"'\"'\\n'\"'\"');f.close();exec(compile(code, __file__, '\"'\"'exec'\"'\"'))' install --record /tmp/pip-record-skg_vkpd/install-record.txt --single-version-externally-managed --compile --install-headers /usr/local/include/python3.8/openbabel Check the logs for full command output.\u001b[0m\n"
          ]
        }
      ],
      "source": [
        "!pip install deepchem\n",
        "!pip install transformers\n",
        "!pip install openbabel"
      ]
    },
    {
      "cell_type": "code",
      "source": [
        "import numpy as np\n",
        "import pandas as pd\n",
        "import matplotlib.pyplot as plt\n",
        "import torch\n",
        "import string\n",
        "import torch.nn as nn\n",
        "from deepchem.feat.smiles_tokenizer import SmilesTokenizer\n",
        "from torch.nn.utils.rnn import pad_sequence\n",
        "from torch.utils.data import Dataset, DataLoader\n",
        "from torch.nn.utils.rnn import pad_sequence\n",
        "from sklearn.model_selection import train_test_split\n",
        "from sklearn.metrics import accuracy_score, mean_squared_error\n",
        "# from openbabel import pybel"
      ],
      "metadata": {
        "colab": {
          "base_uri": "https://localhost:8080/"
        },
        "id": "1j1sx91BZs0y",
        "outputId": "cdebaa0b-5be9-4a12-cd0c-03cbfb055e63"
      },
      "execution_count": 3,
      "outputs": [
        {
          "output_type": "stream",
          "name": "stderr",
          "text": [
            "WARNING:deepchem.models.torch_models:Skipped loading modules with pytorch-geometric dependency, missing a dependency. No module named 'torch_geometric'\n",
            "WARNING:deepchem.models:Skipped loading modules with pytorch-geometric dependency, missing a dependency. cannot import name 'DMPNN' from 'deepchem.models.torch_models' (/usr/local/lib/python3.8/dist-packages/deepchem/models/torch_models/__init__.py)\n",
            "WARNING:deepchem.models:Skipped loading modules with pytorch-lightning dependency, missing a dependency. No module named 'pytorch_lightning'\n",
            "WARNING:deepchem.models:Skipped loading some Jax models, missing a dependency. No module named 'haiku'\n"
          ]
        }
      ]
    },
    {
      "cell_type": "code",
      "source": [
        "from google.colab import drive\n",
        "import sys\n",
        "import os\n",
        "\n",
        "drive.mount('/content/drive')\n",
        "sys.path.insert(0,'/content/drive/My Drive/Fall 2022/CS 137/Final Project/models')\n",
        "os.chdir('/content/drive/My Drive/Fall 2022/CS 137/Final Project/models')"
      ],
      "metadata": {
        "colab": {
          "base_uri": "https://localhost:8080/"
        },
        "id": "5aQXUrPxZU7s",
        "outputId": "1ed78adc-4daf-4aa5-a504-f67dfd8f343e"
      },
      "execution_count": 4,
      "outputs": [
        {
          "output_type": "stream",
          "name": "stdout",
          "text": [
            "Mounted at /content/drive\n"
          ]
        }
      ]
    },
    {
      "cell_type": "code",
      "source": [
        "datapath = 'full_data.txt'\n",
        "vocabpath = 'vocab.txt'"
      ],
      "metadata": {
        "id": "f7NM1qDPaxID"
      },
      "execution_count": 5,
      "outputs": []
    },
    {
      "cell_type": "code",
      "execution_count": 6,
      "metadata": {
        "colab": {
          "base_uri": "https://localhost:8080/",
          "height": 424
        },
        "id": "73by3zT4grep",
        "outputId": "567ae92f-2b52-4a77-c0e0-f012780d875b"
      },
      "outputs": [
        {
          "output_type": "execute_result",
          "data": {
            "text/plain": [
              "       atoms                                             smiles CSD_code  q  \\\n",
              "0        116  [La]1(N(c2c(cccc2C(C)C)C(C)C)[C](N1c1c(cccc1C(...   WIXKOE  0   \n",
              "1         42  [Sc]123(ON(O1)[O])(ON([O])O2)ON([O])O3.n1ccccc...   DUCVIG  0   \n",
              "2         73  [La]123(O[C](C=C(O1)C(F)(F)F)C(F)(F)F)(OC(=C[C...   KINJOG  0   \n",
              "3         46  [Sc]123(OC(=C[C](O1)C(F)(F)F)C(F)(F)F)(O[C](C(...   GEKYEC  0   \n",
              "4         72  n1([Y][C@@]2(C(=C(C(=C2C)C)C)C)C)c(c(c(c1C)C)C...   PIBNEV  0   \n",
              "...      ...                                                ...      ... ..   \n",
              "86660     56  [Zn]12(Cl)(Cl)N3[CH]C=CC=C3C[N@@]1(C[C]1N2C=CC...   XEKGOL  0   \n",
              "86661     63  [Cd]123(S[C](S1)N(C)CCCC)(S[C](S2)N(C)CCCC)N1[...   ULAWIO  0   \n",
              "86662     53  C12=C(c3c4c1cccc4ccc3)N(c1ccc(cc1)SC)[Zn](N2c1...   VUJJAN  0   \n",
              "86663     45  [Hg](Cl)[C@@]1([Si](C)(C)C(C)(C)C)C(=C(C(=C1C)...   NEWZEU  0   \n",
              "86664     41  [Zn](OC(=O)c1ccc[n+]([O-])c1)OC(=O)c1ccc[n+]([...   UNEQUB  0   \n",
              "\n",
              "       S    Stoichiometry  MND  Electronic_E  Dispersion_E  Dipole_M  Metal_q  \\\n",
              "0      0      C47H65LaN2O    7  -2045.524942     -0.239239    4.2333  2.10934   \n",
              "1      0     C13H10N9O9Sc    8  -2430.690317     -0.082134   11.7544  0.75994   \n",
              "2      0   C23H21F18LaO10   10  -3467.923206     -0.137954    8.3017  1.76650   \n",
              "3      0     C15H5F18O7Sc    7  -3657.137747     -0.073924    3.0448  1.17186   \n",
              "4      0         C28H42NY   11  -1184.911899     -0.132369    2.7760  1.92642   \n",
              "...   ..              ...  ...           ...           ...       ...      ...   \n",
              "86660  0   C24H23Cl2N5OZn    5  -3976.162059     -0.107885    8.8712  0.95959   \n",
              "86661  0     C22H32CdN4S4    6  -2836.193928     -0.117090    6.3455  0.83479   \n",
              "86662  0  C26H20Cl2N2S2Zn    4  -4607.327195     -0.107826   10.6032  0.92167   \n",
              "86663  0     C15H27ClHgSi    2  -1490.551341     -0.079913    4.4533  0.75218   \n",
              "86664  0    C12H16N2O10Zn    6  -3106.954218     -0.059418    0.0028  1.19367   \n",
              "\n",
              "        HL_Gap  HOMO_Energy  LUMO_Energy  Polarizability  \n",
              "0      0.13108     -0.16204     -0.03096      598.457913  \n",
              "1      0.12493     -0.24358     -0.11865      277.750698  \n",
              "2      0.14014     -0.23646     -0.09632      393.442545  \n",
              "3      0.13865     -0.26765     -0.12900      266.725736  \n",
              "4      0.10641     -0.15164     -0.04523      342.341585  \n",
              "...        ...          ...          ...             ...  \n",
              "86660  0.13420     -0.21155     -0.07735      348.434765  \n",
              "86661  0.07759     -0.16138     -0.08379      384.879049  \n",
              "86662  0.06897     -0.19997     -0.13100      377.567353  \n",
              "86663  0.09186     -0.19018     -0.09832      240.757590  \n",
              "86664  0.13123     -0.20562     -0.07439      227.982227  \n",
              "\n",
              "[86665 rows x 15 columns]"
            ],
            "text/html": [
              "\n",
              "  <div id=\"df-abf8cdd7-2f8a-4945-a823-9d7deba9d757\">\n",
              "    <div class=\"colab-df-container\">\n",
              "      <div>\n",
              "<style scoped>\n",
              "    .dataframe tbody tr th:only-of-type {\n",
              "        vertical-align: middle;\n",
              "    }\n",
              "\n",
              "    .dataframe tbody tr th {\n",
              "        vertical-align: top;\n",
              "    }\n",
              "\n",
              "    .dataframe thead th {\n",
              "        text-align: right;\n",
              "    }\n",
              "</style>\n",
              "<table border=\"1\" class=\"dataframe\">\n",
              "  <thead>\n",
              "    <tr style=\"text-align: right;\">\n",
              "      <th></th>\n",
              "      <th>atoms</th>\n",
              "      <th>smiles</th>\n",
              "      <th>CSD_code</th>\n",
              "      <th>q</th>\n",
              "      <th>S</th>\n",
              "      <th>Stoichiometry</th>\n",
              "      <th>MND</th>\n",
              "      <th>Electronic_E</th>\n",
              "      <th>Dispersion_E</th>\n",
              "      <th>Dipole_M</th>\n",
              "      <th>Metal_q</th>\n",
              "      <th>HL_Gap</th>\n",
              "      <th>HOMO_Energy</th>\n",
              "      <th>LUMO_Energy</th>\n",
              "      <th>Polarizability</th>\n",
              "    </tr>\n",
              "  </thead>\n",
              "  <tbody>\n",
              "    <tr>\n",
              "      <th>0</th>\n",
              "      <td>116</td>\n",
              "      <td>[La]1(N(c2c(cccc2C(C)C)C(C)C)[C](N1c1c(cccc1C(...</td>\n",
              "      <td>WIXKOE</td>\n",
              "      <td>0</td>\n",
              "      <td>0</td>\n",
              "      <td>C47H65LaN2O</td>\n",
              "      <td>7</td>\n",
              "      <td>-2045.524942</td>\n",
              "      <td>-0.239239</td>\n",
              "      <td>4.2333</td>\n",
              "      <td>2.10934</td>\n",
              "      <td>0.13108</td>\n",
              "      <td>-0.16204</td>\n",
              "      <td>-0.03096</td>\n",
              "      <td>598.457913</td>\n",
              "    </tr>\n",
              "    <tr>\n",
              "      <th>1</th>\n",
              "      <td>42</td>\n",
              "      <td>[Sc]123(ON(O1)[O])(ON([O])O2)ON([O])O3.n1ccccc...</td>\n",
              "      <td>DUCVIG</td>\n",
              "      <td>0</td>\n",
              "      <td>0</td>\n",
              "      <td>C13H10N9O9Sc</td>\n",
              "      <td>8</td>\n",
              "      <td>-2430.690317</td>\n",
              "      <td>-0.082134</td>\n",
              "      <td>11.7544</td>\n",
              "      <td>0.75994</td>\n",
              "      <td>0.12493</td>\n",
              "      <td>-0.24358</td>\n",
              "      <td>-0.11865</td>\n",
              "      <td>277.750698</td>\n",
              "    </tr>\n",
              "    <tr>\n",
              "      <th>2</th>\n",
              "      <td>73</td>\n",
              "      <td>[La]123(O[C](C=C(O1)C(F)(F)F)C(F)(F)F)(OC(=C[C...</td>\n",
              "      <td>KINJOG</td>\n",
              "      <td>0</td>\n",
              "      <td>0</td>\n",
              "      <td>C23H21F18LaO10</td>\n",
              "      <td>10</td>\n",
              "      <td>-3467.923206</td>\n",
              "      <td>-0.137954</td>\n",
              "      <td>8.3017</td>\n",
              "      <td>1.76650</td>\n",
              "      <td>0.14014</td>\n",
              "      <td>-0.23646</td>\n",
              "      <td>-0.09632</td>\n",
              "      <td>393.442545</td>\n",
              "    </tr>\n",
              "    <tr>\n",
              "      <th>3</th>\n",
              "      <td>46</td>\n",
              "      <td>[Sc]123(OC(=C[C](O1)C(F)(F)F)C(F)(F)F)(O[C](C(...</td>\n",
              "      <td>GEKYEC</td>\n",
              "      <td>0</td>\n",
              "      <td>0</td>\n",
              "      <td>C15H5F18O7Sc</td>\n",
              "      <td>7</td>\n",
              "      <td>-3657.137747</td>\n",
              "      <td>-0.073924</td>\n",
              "      <td>3.0448</td>\n",
              "      <td>1.17186</td>\n",
              "      <td>0.13865</td>\n",
              "      <td>-0.26765</td>\n",
              "      <td>-0.12900</td>\n",
              "      <td>266.725736</td>\n",
              "    </tr>\n",
              "    <tr>\n",
              "      <th>4</th>\n",
              "      <td>72</td>\n",
              "      <td>n1([Y][C@@]2(C(=C(C(=C2C)C)C)C)C)c(c(c(c1C)C)C...</td>\n",
              "      <td>PIBNEV</td>\n",
              "      <td>0</td>\n",
              "      <td>0</td>\n",
              "      <td>C28H42NY</td>\n",
              "      <td>11</td>\n",
              "      <td>-1184.911899</td>\n",
              "      <td>-0.132369</td>\n",
              "      <td>2.7760</td>\n",
              "      <td>1.92642</td>\n",
              "      <td>0.10641</td>\n",
              "      <td>-0.15164</td>\n",
              "      <td>-0.04523</td>\n",
              "      <td>342.341585</td>\n",
              "    </tr>\n",
              "    <tr>\n",
              "      <th>...</th>\n",
              "      <td>...</td>\n",
              "      <td>...</td>\n",
              "      <td>...</td>\n",
              "      <td>...</td>\n",
              "      <td>...</td>\n",
              "      <td>...</td>\n",
              "      <td>...</td>\n",
              "      <td>...</td>\n",
              "      <td>...</td>\n",
              "      <td>...</td>\n",
              "      <td>...</td>\n",
              "      <td>...</td>\n",
              "      <td>...</td>\n",
              "      <td>...</td>\n",
              "      <td>...</td>\n",
              "    </tr>\n",
              "    <tr>\n",
              "      <th>86660</th>\n",
              "      <td>56</td>\n",
              "      <td>[Zn]12(Cl)(Cl)N3[CH]C=CC=C3C[N@@]1(C[C]1N2C=CC...</td>\n",
              "      <td>XEKGOL</td>\n",
              "      <td>0</td>\n",
              "      <td>0</td>\n",
              "      <td>C24H23Cl2N5OZn</td>\n",
              "      <td>5</td>\n",
              "      <td>-3976.162059</td>\n",
              "      <td>-0.107885</td>\n",
              "      <td>8.8712</td>\n",
              "      <td>0.95959</td>\n",
              "      <td>0.13420</td>\n",
              "      <td>-0.21155</td>\n",
              "      <td>-0.07735</td>\n",
              "      <td>348.434765</td>\n",
              "    </tr>\n",
              "    <tr>\n",
              "      <th>86661</th>\n",
              "      <td>63</td>\n",
              "      <td>[Cd]123(S[C](S1)N(C)CCCC)(S[C](S2)N(C)CCCC)N1[...</td>\n",
              "      <td>ULAWIO</td>\n",
              "      <td>0</td>\n",
              "      <td>0</td>\n",
              "      <td>C22H32CdN4S4</td>\n",
              "      <td>6</td>\n",
              "      <td>-2836.193928</td>\n",
              "      <td>-0.117090</td>\n",
              "      <td>6.3455</td>\n",
              "      <td>0.83479</td>\n",
              "      <td>0.07759</td>\n",
              "      <td>-0.16138</td>\n",
              "      <td>-0.08379</td>\n",
              "      <td>384.879049</td>\n",
              "    </tr>\n",
              "    <tr>\n",
              "      <th>86662</th>\n",
              "      <td>53</td>\n",
              "      <td>C12=C(c3c4c1cccc4ccc3)N(c1ccc(cc1)SC)[Zn](N2c1...</td>\n",
              "      <td>VUJJAN</td>\n",
              "      <td>0</td>\n",
              "      <td>0</td>\n",
              "      <td>C26H20Cl2N2S2Zn</td>\n",
              "      <td>4</td>\n",
              "      <td>-4607.327195</td>\n",
              "      <td>-0.107826</td>\n",
              "      <td>10.6032</td>\n",
              "      <td>0.92167</td>\n",
              "      <td>0.06897</td>\n",
              "      <td>-0.19997</td>\n",
              "      <td>-0.13100</td>\n",
              "      <td>377.567353</td>\n",
              "    </tr>\n",
              "    <tr>\n",
              "      <th>86663</th>\n",
              "      <td>45</td>\n",
              "      <td>[Hg](Cl)[C@@]1([Si](C)(C)C(C)(C)C)C(=C(C(=C1C)...</td>\n",
              "      <td>NEWZEU</td>\n",
              "      <td>0</td>\n",
              "      <td>0</td>\n",
              "      <td>C15H27ClHgSi</td>\n",
              "      <td>2</td>\n",
              "      <td>-1490.551341</td>\n",
              "      <td>-0.079913</td>\n",
              "      <td>4.4533</td>\n",
              "      <td>0.75218</td>\n",
              "      <td>0.09186</td>\n",
              "      <td>-0.19018</td>\n",
              "      <td>-0.09832</td>\n",
              "      <td>240.757590</td>\n",
              "    </tr>\n",
              "    <tr>\n",
              "      <th>86664</th>\n",
              "      <td>41</td>\n",
              "      <td>[Zn](OC(=O)c1ccc[n+]([O-])c1)OC(=O)c1ccc[n+]([...</td>\n",
              "      <td>UNEQUB</td>\n",
              "      <td>0</td>\n",
              "      <td>0</td>\n",
              "      <td>C12H16N2O10Zn</td>\n",
              "      <td>6</td>\n",
              "      <td>-3106.954218</td>\n",
              "      <td>-0.059418</td>\n",
              "      <td>0.0028</td>\n",
              "      <td>1.19367</td>\n",
              "      <td>0.13123</td>\n",
              "      <td>-0.20562</td>\n",
              "      <td>-0.07439</td>\n",
              "      <td>227.982227</td>\n",
              "    </tr>\n",
              "  </tbody>\n",
              "</table>\n",
              "<p>86665 rows × 15 columns</p>\n",
              "</div>\n",
              "      <button class=\"colab-df-convert\" onclick=\"convertToInteractive('df-abf8cdd7-2f8a-4945-a823-9d7deba9d757')\"\n",
              "              title=\"Convert this dataframe to an interactive table.\"\n",
              "              style=\"display:none;\">\n",
              "        \n",
              "  <svg xmlns=\"http://www.w3.org/2000/svg\" height=\"24px\"viewBox=\"0 0 24 24\"\n",
              "       width=\"24px\">\n",
              "    <path d=\"M0 0h24v24H0V0z\" fill=\"none\"/>\n",
              "    <path d=\"M18.56 5.44l.94 2.06.94-2.06 2.06-.94-2.06-.94-.94-2.06-.94 2.06-2.06.94zm-11 1L8.5 8.5l.94-2.06 2.06-.94-2.06-.94L8.5 2.5l-.94 2.06-2.06.94zm10 10l.94 2.06.94-2.06 2.06-.94-2.06-.94-.94-2.06-.94 2.06-2.06.94z\"/><path d=\"M17.41 7.96l-1.37-1.37c-.4-.4-.92-.59-1.43-.59-.52 0-1.04.2-1.43.59L10.3 9.45l-7.72 7.72c-.78.78-.78 2.05 0 2.83L4 21.41c.39.39.9.59 1.41.59.51 0 1.02-.2 1.41-.59l7.78-7.78 2.81-2.81c.8-.78.8-2.07 0-2.86zM5.41 20L4 18.59l7.72-7.72 1.47 1.35L5.41 20z\"/>\n",
              "  </svg>\n",
              "      </button>\n",
              "      \n",
              "  <style>\n",
              "    .colab-df-container {\n",
              "      display:flex;\n",
              "      flex-wrap:wrap;\n",
              "      gap: 12px;\n",
              "    }\n",
              "\n",
              "    .colab-df-convert {\n",
              "      background-color: #E8F0FE;\n",
              "      border: none;\n",
              "      border-radius: 50%;\n",
              "      cursor: pointer;\n",
              "      display: none;\n",
              "      fill: #1967D2;\n",
              "      height: 32px;\n",
              "      padding: 0 0 0 0;\n",
              "      width: 32px;\n",
              "    }\n",
              "\n",
              "    .colab-df-convert:hover {\n",
              "      background-color: #E2EBFA;\n",
              "      box-shadow: 0px 1px 2px rgba(60, 64, 67, 0.3), 0px 1px 3px 1px rgba(60, 64, 67, 0.15);\n",
              "      fill: #174EA6;\n",
              "    }\n",
              "\n",
              "    [theme=dark] .colab-df-convert {\n",
              "      background-color: #3B4455;\n",
              "      fill: #D2E3FC;\n",
              "    }\n",
              "\n",
              "    [theme=dark] .colab-df-convert:hover {\n",
              "      background-color: #434B5C;\n",
              "      box-shadow: 0px 1px 3px 1px rgba(0, 0, 0, 0.15);\n",
              "      filter: drop-shadow(0px 1px 2px rgba(0, 0, 0, 0.3));\n",
              "      fill: #FFFFFF;\n",
              "    }\n",
              "  </style>\n",
              "\n",
              "      <script>\n",
              "        const buttonEl =\n",
              "          document.querySelector('#df-abf8cdd7-2f8a-4945-a823-9d7deba9d757 button.colab-df-convert');\n",
              "        buttonEl.style.display =\n",
              "          google.colab.kernel.accessAllowed ? 'block' : 'none';\n",
              "\n",
              "        async function convertToInteractive(key) {\n",
              "          const element = document.querySelector('#df-abf8cdd7-2f8a-4945-a823-9d7deba9d757');\n",
              "          const dataTable =\n",
              "            await google.colab.kernel.invokeFunction('convertToInteractive',\n",
              "                                                     [key], {});\n",
              "          if (!dataTable) return;\n",
              "\n",
              "          const docLinkHtml = 'Like what you see? Visit the ' +\n",
              "            '<a target=\"_blank\" href=https://colab.research.google.com/notebooks/data_table.ipynb>data table notebook</a>'\n",
              "            + ' to learn more about interactive tables.';\n",
              "          element.innerHTML = '';\n",
              "          dataTable['output_type'] = 'display_data';\n",
              "          await google.colab.output.renderOutput(dataTable, element);\n",
              "          const docLink = document.createElement('div');\n",
              "          docLink.innerHTML = docLinkHtml;\n",
              "          element.appendChild(docLink);\n",
              "        }\n",
              "      </script>\n",
              "    </div>\n",
              "  </div>\n",
              "  "
            ]
          },
          "metadata": {},
          "execution_count": 6
        }
      ],
      "source": [
        "datafile = pd.read_csv(datapath, index_col=False)#.drop('Unnamed: 0')\n",
        "datafile.drop(columns=datafile.columns[0], axis=1, inplace=True)\n",
        "datafile"
      ]
    },
    {
      "cell_type": "markdown",
      "metadata": {
        "id": "SDkUILI9greq"
      },
      "source": [
        "# Tokenize SMILES"
      ]
    },
    {
      "cell_type": "code",
      "execution_count": 7,
      "metadata": {
        "id": "bNZuWmUCgrer"
      },
      "outputs": [],
      "source": [
        "vocab = []\n",
        "with open(vocabpath) as f:\n",
        "    for line in f:\n",
        "        vocab.append(line.rstrip())"
      ]
    },
    {
      "cell_type": "code",
      "execution_count": 8,
      "metadata": {
        "id": "pNqWwsj2grer"
      },
      "outputs": [],
      "source": [
        "def convert_smiles_to_data(smiles, tokenizer):\n",
        "    \"\"\" Convert a list of strings to a list of numpy arrays\"\"\"\n",
        "    data = [None] * len(smiles)\n",
        "    for i, string in enumerate(smiles):\n",
        "        data[i] = tokenizer.encode(string)\n",
        "        \n",
        "    return data"
      ]
    },
    {
      "cell_type": "code",
      "execution_count": 9,
      "metadata": {
        "id": "Idu43dv7gres"
      },
      "outputs": [],
      "source": [
        "smiles = list(datafile['smiles'])\n",
        "tokenizer = SmilesTokenizer(vocabpath)\n",
        "tokenizer.encode(smiles[0])\n",
        "encoded = convert_smiles_to_data(smiles, tokenizer)\n",
        "datafile['encoded-smiles'] = encoded"
      ]
    },
    {
      "cell_type": "code",
      "execution_count": 10,
      "metadata": {
        "colab": {
          "base_uri": "https://localhost:8080/"
        },
        "id": "PvoJ0H86gres",
        "outputId": "dc5fdbf7-5378-4e8c-8b7d-9ac16dbd0c06"
      },
      "outputs": [
        {
          "output_type": "stream",
          "name": "stdout",
          "text": [
            "Data statistics:\n",
            "Number of Compounds:  86665\n",
            "Maximum and minimum SMILES lengths: 512 , 7\n",
            "Total number of characters: 5763765\n",
            "Vocabulary size:  591\n",
            "Random Example SMILES: [CLS][La]1(N(c2c(cccc2C(C)C)C(C)C)[C](N1c1c(cccc1C(C)C)C(C)C)C(C)(C)C)(Cc1ccccc1)Cc1ccccc1.O1CCCC1[SEP]\n",
            "Random Encoded SMILES: [12, 239, 20, 17, 23, 17, 15, 21, 15, 17, 15, 15, 15, 15, 21, 16, 17, 16, 18, 16, 18, 16, 17, 16, 18, 16, 18, 94, 17, 23, 20, 15, 20, 15, 17, 15, 15, 15, 15, 20, 16, 17, 16, 18, 16, 18, 16, 17, 16, 18, 16, 18, 16, 17, 16, 18, 17, 16, 18, 16, 18, 17, 16, 15, 20, 15, 15, 15, 15, 15, 20, 18, 16, 15, 20, 15, 15, 15, 15, 15, 20, 24, 19, 20, 16, 16, 16, 16, 20, 13]\n",
            "Unique Characters: 146\n"
          ]
        }
      ],
      "source": [
        "sizes = []\n",
        "for a in encoded:\n",
        "    sizes.append(len(a))\n",
        "\n",
        "print('Data statistics:')\n",
        "print('Number of Compounds: ', len(encoded))\n",
        "print('Maximum and minimum SMILES lengths:', max(sizes), ',', min(sizes))\n",
        "print('Total number of characters:', sum(sizes))\n",
        "print('Vocabulary size: ', len(vocab))\n",
        "\n",
        "sample = ''\n",
        "for i in encoded[0]:\n",
        "    sample +=vocab[i] \n",
        "print('Random Example SMILES:', sample)\n",
        "print('Random Encoded SMILES:', encoded[0])\n",
        "\n",
        "unique = len({x for l in encoded for x in l})\n",
        "print('Unique Characters:', unique)"
      ]
    },
    {
      "cell_type": "code",
      "execution_count": 11,
      "metadata": {
        "id": "ni66Vp89gret"
      },
      "outputs": [],
      "source": [
        "x = list(datafile['encoded-smiles'])\n",
        "for i, smiles in enumerate(x):\n",
        "    x[i] = torch.tensor(smiles, dtype=torch.float32)\n",
        "x = pad_sequence(x, batch_first=True, padding_value=-1)\n",
        "y = datafile.drop(columns=['encoded-smiles', 'smiles', 'CSD_code', 'Stoichiometry']).to_numpy()"
      ]
    },
    {
      "cell_type": "code",
      "execution_count": 12,
      "metadata": {
        "colab": {
          "base_uri": "https://localhost:8080/"
        },
        "id": "3iiEzinngreu",
        "outputId": "2cddde85-7042-40b9-8975-dee260e52011"
      },
      "outputs": [
        {
          "output_type": "stream",
          "name": "stderr",
          "text": [
            "<ipython-input-12-dbd0352cdd9b>:4: UserWarning: To copy construct from a tensor, it is recommended to use sourceTensor.clone().detach() or sourceTensor.clone().detach().requires_grad_(True), rather than torch.tensor(sourceTensor).\n",
            "  self.x = torch.tensor(x, dtype=torch.float32)\n"
          ]
        }
      ],
      "source": [
        "class ModelData(Dataset):\n",
        "    def __init__(self, x, y):\n",
        "        \n",
        "        self.x = torch.tensor(x, dtype=torch.float32)\n",
        "        self.y = torch.tensor(y, dtype=torch.float32)\n",
        "        \n",
        "    def __len__(self):\n",
        "#         print(self.x.size()[0])\n",
        "        return self.x.size()[0]\n",
        "    \n",
        "    def __getitem__(self, idx):\n",
        "        return self.x[idx], self.y[idx] \n",
        "    \n",
        "d = ModelData(x, y)"
      ]
    },
    {
      "cell_type": "code",
      "execution_count": 13,
      "metadata": {
        "id": "fA-fqJHngrev"
      },
      "outputs": [],
      "source": [
        "class GRUNetwork(nn.Module):\n",
        "    def __init__(self):\n",
        "        super(GRUNetwork, self).__init__()\n",
        "        torch.manual_seed(12345)\n",
        "#         self.embed = nn.Embedding(num_embeddings=len(vocab), embedding_dim=32)\n",
        "        self.GRU = nn.GRU(input_size=max(sizes), hidden_size=512, num_layers=3, batch_first=True, bidirectional=False, dropout=0.15)\n",
        "        self.linear1 = nn.Linear(in_features=512, out_features=128)\n",
        "        self.linear2 = nn.Linear(in_features=128, out_features=12)\n",
        "        \n",
        "    def forward(self, x):\n",
        "#         x = self.embed(x)\n",
        "        h, state = self.GRU(x)\n",
        "        h = self.linear1(h)\n",
        "        out = self.linear2(h)\n",
        "        \n",
        "        return out, state\n",
        "    \n",
        "model = GRUNetwork()"
      ]
    },
    {
      "cell_type": "code",
      "execution_count": 14,
      "metadata": {
        "colab": {
          "base_uri": "https://localhost:8080/"
        },
        "id": "RnAPdvABgrev",
        "outputId": "b412e416-ab87-4e03-dcfc-c53fe1af329e"
      },
      "outputs": [
        {
          "output_type": "stream",
          "name": "stderr",
          "text": [
            "<ipython-input-12-dbd0352cdd9b>:4: UserWarning: To copy construct from a tensor, it is recommended to use sourceTensor.clone().detach() or sourceTensor.clone().detach().requires_grad_(True), rather than torch.tensor(sourceTensor).\n",
            "  self.x = torch.tensor(x, dtype=torch.float32)\n"
          ]
        }
      ],
      "source": [
        "x_train, x_test, y_train, y_test = train_test_split(x, y, train_size=0.8, shuffle=True)\n",
        "x_train, x_val, y_train, y_val = train_test_split(x_train, y_train, train_size=0.8, shuffle=True)\n",
        "train_set = ModelData(x_train, y_train)\n",
        "val_set = ModelData(x_val, y_val)\n",
        "test_set = ModelData(x_test, y_test)"
      ]
    },
    {
      "cell_type": "code",
      "execution_count": 15,
      "metadata": {
        "colab": {
          "base_uri": "https://localhost:8080/"
        },
        "id": "DhKvTiZmgrew",
        "outputId": "a2d6151a-ad13-45ed-bbba-305e629225cf"
      },
      "outputs": [
        {
          "output_type": "execute_result",
          "data": {
            "text/plain": [
              "torch.Size([13867, 512])"
            ]
          },
          "metadata": {},
          "execution_count": 15
        }
      ],
      "source": [
        "x_val.shape"
      ]
    },
    {
      "cell_type": "code",
      "execution_count": 16,
      "metadata": {
        "id": "g4-wxQeEgrew"
      },
      "outputs": [],
      "source": [
        "def train(model, train_set, val_set, reg_weight=1, num_epochs=10, batch_size=10, lr=0.02):\n",
        "    \n",
        "    train_loader = DataLoader(train_set, batch_size=batch_size)\n",
        "    val_loader = DataLoader(val_set, batch_size=batch_size)\n",
        "    \n",
        "    loss_func = nn.MSELoss()\n",
        "    opt = torch.optim.Adam(model.parameters(), lr=lr)\n",
        "    \n",
        "    history = {\"train_acc\": [], \"train_loss\": [], \"val_loss\": [], \"val_acc\": []}\n",
        "    \n",
        "    for i in range(num_epochs):\n",
        "        epoch_train_loss = []\n",
        "        epoch_val_loss = []\n",
        "        epoch_train_acc = []\n",
        "        epoch_val_acc = []\n",
        "        for _, (x, y) in enumerate(train_loader):\n",
        "            model.train()\n",
        "    \n",
        "\n",
        "            y_hat, state = model(x)\n",
        "            loss = loss_func(y_hat, y) * reg_weight\n",
        "\n",
        "            opt.zero_grad()\n",
        "            loss.backward()\n",
        "\n",
        "            opt.step()\n",
        "\n",
        "            train_acc = mean_squared_error(y, y_hat.detach().numpy())\n",
        "            epoch_train_loss.append(loss.detach().numpy())\n",
        "            epoch_train_acc.append(train_acc)\n",
        "            \n",
        "        with torch.no_grad():\n",
        "            for _, (val_x, val_y) in enumerate(val_loader):\n",
        "                val_pred, _ = model(val_x)\n",
        "                val_loss = loss_func(val_pred, val_y) * reg_weight\n",
        "                \n",
        "                val_acc = mean_squared_error(val_y, val_pred)\n",
        "                epoch_val_loss.append(val_loss.detach().numpy())\n",
        "                epoch_val_acc.append(val_acc)\n",
        "        \n",
        "        epoch_train_loss = sum(epoch_train_loss)/len(epoch_train_loss)\n",
        "        epoch_val_loss = sum(epoch_val_loss)/len(epoch_val_loss)\n",
        "        epoch_val_acc = sum(epoch_val_acc)/len(epoch_val_acc)\n",
        "        epoch_train_acc = sum(epoch_train_acc)/len(epoch_train_acc)\n",
        "        \n",
        "        print('Epoch', i, '-- Train Loss', epoch_train_loss, '-- Train MSE', epoch_train_acc, \n",
        "              '-- Val Loss', epoch_val_loss, '-- Val MSE', epoch_val_acc)\n",
        "\n",
        "        history['train_acc'].append(epoch_train_acc)\n",
        "        history['train_loss'].append(epoch_train_loss)\n",
        "        history['val_acc'].append(epoch_val_acc)\n",
        "        history['val_loss'].append(epoch_val_loss)\n",
        "    \n",
        "    return model, history"
      ]
    },
    {
      "cell_type": "code",
      "execution_count": 17,
      "metadata": {
        "colab": {
          "base_uri": "https://localhost:8080/"
        },
        "id": "eFXmNR_ogrex",
        "outputId": "64a2c031-de47-4e7f-fd11-daa7e30e49b3"
      },
      "outputs": [
        {
          "output_type": "stream",
          "name": "stdout",
          "text": [
            "Epoch 0 -- Train Loss 232228.3659206081 -- Train MSE 232228.3635838964 -- Val Loss 206486.631238759 -- Val MSE 206486.63399280576\n",
            "Epoch 1 -- Train Loss 220967.61469594596 -- Train MSE 220967.6143018018 -- Val Loss 206048.83503821943 -- Val MSE 206048.82924910073\n",
            "Epoch 2 -- Train Loss 220937.29766328828 -- Train MSE 220937.2940456081 -- Val Loss 206094.7419064748 -- Val MSE 206094.73223920862\n",
            "Epoch 3 -- Train Loss 220791.6094313063 -- Train MSE 220791.609740991 -- Val Loss 206297.77439298562 -- Val MSE 206297.7664118705\n",
            "Epoch 4 -- Train Loss 220615.19590371623 -- Train MSE 220615.19752252253 -- Val Loss 206713.78271133095 -- Val MSE 206713.7872077338\n",
            "Epoch 5 -- Train Loss 220474.55710867117 -- Train MSE 220474.5534206081 -- Val Loss 206965.37055980216 -- Val MSE 206965.37027877697\n",
            "Epoch 6 -- Train Loss 220368.3245777027 -- Train MSE 220368.32159346846 -- Val Loss 207379.32121178057 -- Val MSE 207379.31677158273\n",
            "Epoch 7 -- Train Loss 220355.8691019144 -- Train MSE 220355.8647240991 -- Val Loss 207660.74207508992 -- Val MSE 207660.73847796762\n",
            "Epoch 8 -- Train Loss 220183.70494087838 -- Train MSE 220183.69984515765 -- Val Loss 207642.0682891187 -- Val MSE 207642.05901528776\n",
            "Epoch 9 -- Train Loss 220090.3726632883 -- Train MSE 220090.36773648649 -- Val Loss 207539.3223358813 -- Val MSE 207539.31210656476\n"
          ]
        }
      ],
      "source": [
        "trained_model, history = train(model, train_set, val_set, num_epochs=10, batch_size=100)"
      ]
    },
    {
      "cell_type": "code",
      "execution_count": 18,
      "metadata": {
        "id": "fELlKxQQgrex"
      },
      "outputs": [],
      "source": [
        "y_pred, _ = model(x_test)"
      ]
    },
    {
      "cell_type": "code",
      "execution_count": 1,
      "metadata": {
        "colab": {
          "base_uri": "https://localhost:8080/",
          "height": 169
        },
        "id": "8Wi2JEcEgrex",
        "outputId": "0bd9e727-d12f-4536-c0c3-e8d77c430eac"
      },
      "outputs": [
        {
          "output_type": "error",
          "ename": "NameError",
          "evalue": "ignored",
          "traceback": [
            "\u001b[0;31m---------------------------------------------------------------------------\u001b[0m",
            "\u001b[0;31mNameError\u001b[0m                                 Traceback (most recent call last)",
            "\u001b[0;32m<ipython-input-1-51a5f258ea65>\u001b[0m in \u001b[0;36m<module>\u001b[0;34m\u001b[0m\n\u001b[0;32m----> 1\u001b[0;31m \u001b[0mplt\u001b[0m\u001b[0;34m.\u001b[0m\u001b[0mscatter\u001b[0m\u001b[0;34m(\u001b[0m\u001b[0my_test\u001b[0m\u001b[0;34m[\u001b[0m\u001b[0;34m:\u001b[0m\u001b[0;34m,\u001b[0m\u001b[0;36m5\u001b[0m\u001b[0;34m]\u001b[0m\u001b[0;34m,\u001b[0m \u001b[0my_pred\u001b[0m\u001b[0;34m.\u001b[0m\u001b[0mdetach\u001b[0m\u001b[0;34m(\u001b[0m\u001b[0;34m)\u001b[0m\u001b[0;34m.\u001b[0m\u001b[0mnumpy\u001b[0m\u001b[0;34m(\u001b[0m\u001b[0;34m)\u001b[0m\u001b[0;34m[\u001b[0m\u001b[0;34m:\u001b[0m\u001b[0;34m,\u001b[0m\u001b[0;36m5\u001b[0m\u001b[0;34m]\u001b[0m\u001b[0;34m)\u001b[0m\u001b[0;34m\u001b[0m\u001b[0;34m\u001b[0m\u001b[0m\n\u001b[0m",
            "\u001b[0;31mNameError\u001b[0m: name 'plt' is not defined"
          ]
        }
      ],
      "source": [
        "plt.scatter(y_test[:,5], y_pred.detach().numpy()[:,5])"
      ]
    },
    {
      "cell_type": "code",
      "execution_count": null,
      "metadata": {
        "id": "0qqCkQxlgrex"
      },
      "outputs": [],
      "source": []
    }
  ],
  "metadata": {
    "kernelspec": {
      "display_name": "Python 3",
      "language": "python",
      "name": "python3"
    },
    "language_info": {
      "codemirror_mode": {
        "name": "ipython",
        "version": 3
      },
      "file_extension": ".py",
      "mimetype": "text/x-python",
      "name": "python",
      "nbconvert_exporter": "python",
      "pygments_lexer": "ipython3",
      "version": "3.8.5"
    },
    "colab": {
      "provenance": []
    },
    "accelerator": "GPU",
    "gpuClass": "standard"
  },
  "nbformat": 4,
  "nbformat_minor": 0
}